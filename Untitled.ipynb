{
 "cells": [
  {
   "cell_type": "code",
   "execution_count": null,
   "id": "5ebd2599",
   "metadata": {},
   "outputs": [],
   "source": [
    "# %load pi_calculator.py\n",
    "# calculating pi using statistical method\n",
    "import random as rnd\n",
    "import numpy as np\n",
    "import matplotlib.pyplot as plt\n",
    "\n",
    "def pi_calculator(N):\n",
    "    cnt=0\n",
    "    x1,y1,x2,y2=[],[],[],[]\n",
    "    for i in range(N):\n",
    "        x_= rnd.random()\n",
    "        y_= rnd.random()\n",
    "        if x_**2+y_**2 < 1:\n",
    "            cnt+=1\n",
    "            x1.append(x_)\n",
    "            y1.append(y_)\n",
    "        else:\n",
    "            x2.append(x_)\n",
    "            y2.append(y_)\n",
    "    plt.scatter(x1,y1,marker='o',color='g',s=8)\n",
    "    plt.scatter(x2,y2,marker='o',color='r',s=8)\n",
    "    plt.show()\n",
    "    return 4*cnt/N\n",
    "\n",
    "def pi_calculator_np(N):\n",
    "    x=np.random.random(N)\n",
    "    y=np.random.random(N)\n",
    "    inner,outer=[],[]\n",
    "    for (i,j) in [*zip(x,y)]:\n",
    "        if i**2+j**2 <1.0:\n",
    "            inner.append((i,j))\n",
    "        else:\n",
    "            outer.append((i,j))\n",
    "    plt.scatter(*zip(*inner),marker='o',color='g',s=8)\n",
    "    plt.scatter(*zip(*outer),marker='o',color='r',s=8)\n",
    "    plt.show()\n",
    "    return 4*len(inner)/N"
   ]
  },
  {
   "cell_type": "code",
   "execution_count": null,
   "id": "f757e71a",
   "metadata": {},
   "outputs": [],
   "source": []
  },
  {
   "cell_type": "code",
   "execution_count": null,
   "id": "f5a9b653",
   "metadata": {},
   "outputs": [],
   "source": []
  },
  {
   "cell_type": "code",
   "execution_count": null,
   "id": "11d01c91",
   "metadata": {},
   "outputs": [],
   "source": []
  }
 ],
 "metadata": {
  "kernelspec": {
   "display_name": "Python 3 (ipykernel)",
   "language": "python",
   "name": "python3"
  },
  "language_info": {
   "codemirror_mode": {
    "name": "ipython",
    "version": 3
   },
   "file_extension": ".py",
   "mimetype": "text/x-python",
   "name": "python",
   "nbconvert_exporter": "python",
   "pygments_lexer": "ipython3",
   "version": "3.10.9"
  }
 },
 "nbformat": 4,
 "nbformat_minor": 5
}
